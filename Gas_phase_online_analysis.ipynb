{
 "cells": [
  {
   "cell_type": "code",
   "execution_count": 1,
   "metadata": {
    "collapsed": true
   },
   "outputs": [],
   "source": [
    "import numpy as np\n",
    "import os\n",
    "import time\n",
    "import glob\n",
    "import copy\n",
    "import matplotlib.pyplot as plt\n",
    "from matplotlib.pyplot import cm\n",
    "from getImg import *\n",
    "from makeLgMatrix import *\n",
    "from bkgSubtraction import *\n",
    "from rebinImg import *\n",
    "from centering import *\n",
    "from getImgNorm import *\n",
    "from getImgInfo import *\n",
    "from fitLegendres import *\n",
    "from saveResults import *\n",
    "from queryFolder import *\n",
    "from onlineAnalysis.py import onlineAnalysis"
   ]
  },
  {
   "cell_type": "code",
   "execution_count": 2,
   "metadata": {
    "collapsed": true
   },
   "outputs": [],
   "source": [
    "class CONFIG():\n",
    "  def __init__(self):\n",
    "\n",
    "\n",
    "    ###################################\n",
    "    ###  file querying information  ###\n",
    "    ###################################\n",
    "\n",
    "    self.doQueryFolder  = True\n",
    "    self.queryFolder    = \"/reg/ued/ana/scratch/CHD/20161212/testScan\"\n",
    "    self.queryBkgAddr   = \"/reg/ued/ana/scratch/CHD/20161212/LongScan2/run013/images-ANDOR1/ANDOR1_delayHigh-001-024.4950_0001.tif\"\n",
    "\n",
    "\n",
    "    ########################\n",
    "    ###  saving results  ###\n",
    "    ########################\n",
    "\n",
    "    self.saveQueryResults   = False\n",
    "    self.saveLoadedResults  = False\n",
    "    self.saveFolder         = \"results\"\n",
    "    self.saveFileName       = \"fullResults\"\n",
    "\n",
    "\n",
    "    ##################################\n",
    "    ###  loading results and data  ###\n",
    "    ##################################\n",
    "\n",
    "    # load previous data\n",
    "    self.loadFolders    = []       # do not load anything if empty\n",
    "    self.fileExtention  = \".tif\"\n",
    "    \"\"\"\n",
    "    badRuns = [\"096\",\"111\",\"1i18\",\"010\",\"138\",\"149\",\"035\",\"039\",\"077\",\"007\",\"086\",\"008\",\"091\",\"026\"]\n",
    "    for fld in glob.glob(\"/reg/ued/ana/scratch/CHD/20161212/LongScan2/run*\"):\n",
    "      skip = False\n",
    "      for i in badRuns:\n",
    "        if \"run\"+i in fld:\n",
    "          skip = True\n",
    "          break\n",
    "      if skip:\n",
    "        continue\n",
    "\n",
    "      ind = fld.find(\"run\")\n",
    "      runNum = int(fld[ind+3:])\n",
    "      if True: #(runNum > 80) and (runNum <= 180):\n",
    "\n",
    "        print(fld)\n",
    "        self.loadFolders.append({\n",
    "            \"folder\": fld + \"/images-ANDOR1\", \n",
    "            \"background\": None,\n",
    "            #\"background\": \"/reg/ued/ana/scratch/CHD/20161212/LongScan2/run013/images-ANDOR1/ANDOR1_delayHigh-001-024.4950_0001.tif\",\n",
    "            \"centerR\" : 550,\n",
    "            \"centerC\" : 508})\n",
    "    \"\"\"\n",
    "\n",
    "    # load saved results (saved by this analysis)\n",
    "    self.loadSavedResults           = False\n",
    "    self.loadSavedResultsFolder     = \"results\"\n",
    "    self.loadSavedResultsFileName   = \"allCHD_\"\n",
    "\n",
    "\n",
    "    #############################\n",
    "    ###  analysis parameters  ###\n",
    "    #############################\n",
    "\n",
    "    # background images (will sum images in list)\n",
    "    self.bkgImgNames = [ \n",
    "          \"/reg/ued/ana/scratch/CHD/20161212/LongScan2/run013/images-ANDOR1/ANDOR1_delayHigh-001-024.4950_0001.tif\",\n",
    "          \"/reg/ued/ana/scratch/CHD/20161212/LongScan2/run013/images-ANDOR1/ANDOR1_delayHigh-002-024.5850_0001.tif\"]\n",
    "\n",
    "    # hot pixels\n",
    "    self.hotPixel = 7000\n",
    "\n",
    "    # image region of interest\n",
    "    self.roi = 834\n",
    "\n",
    "    # readout noise subtraction range\n",
    "    self.ROradLow   = 0.9\n",
    "    self.ROradHigh  = 0.98\n",
    "    \n",
    "    # image normalization range\n",
    "    self.normRadLow   = 0.65     # [0.5, 0.75]\n",
    "    self.normRadHigh  = 0.95     # [0.9, 0.99]\n",
    "    self.sumMin       = 5.59e8   # ignore all images with a total sum below this\n",
    "    self.sumMax       = 5.72e8   # ignore all images with a total sum above this\n",
    "\n",
    "    # center finding\n",
    "    self.centerR        = 550    # use None to do center finding  \n",
    "    self.centerC        = 508    # use None to do center finding  [480, 520]\n",
    "    self.guessCenterR   = 530    # [530, 570]\n",
    "    self.guessCenterC   = 500    # [480, 520]\n",
    "    self.centerRadLow   = 148    # use this range to determine center\n",
    "    self.centerRadHigh  = 152    # use this range to determine center\n",
    "\n",
    "    # legendre fitting parameters\n",
    "    self.Nlegendres     = 6      # will fit legendres [0, Nlegendres)\n",
    "    self.NradialBins    = 50     # number of radial bins when fitting\n",
    "    self.Nrebin         = 5      # rebin before fitting (makes fitting faster)\n",
    "    self.gMatrixFolder  = \"/reg/neh/home/khegazy/analysis/legendreFitMatrices/\"\n",
    "\n",
    "    \n",
    "    "
   ]
  },
  {
   "cell_type": "code",
   "execution_count": 3,
   "metadata": {
    "collapsed": false
   },
   "outputs": [
    {
     "ename": "SyntaxError",
     "evalue": "invalid syntax (<ipython-input-3-f119c3200080>, line 2)",
     "output_type": "error",
     "traceback": [
      "\u001b[0;36m  File \u001b[0;32m\"<ipython-input-3-f119c3200080>\"\u001b[0;36m, line \u001b[0;32m2\u001b[0m\n\u001b[0;31m    backgroundImage =\u001b[0m\n\u001b[0m                      ^\u001b[0m\n\u001b[0;31mSyntaxError\u001b[0m\u001b[0;31m:\u001b[0m invalid syntax\n"
     ]
    }
   ],
   "source": [
    "testImages = []\n",
    "backgroundImage = \n",
    "\n",
    "centerConfig = copy.deepcopy(config)\n",
    "centerConfig.centerR = None\n",
    "centerConfig.centerC = None\n",
    "\n",
    "bkgImg = get_image(backgroundImage, config.hotPixel)\n",
    "\n",
    "for name in testImages:\n",
    "    ###  get image and remove hot pixels  ###\n",
    "    img = get_image(name, config.hotPixel)\n",
    "\n",
    "    ###  subtract background images  ###\n",
    "    if curBkgAddr is not None:\n",
    "        img -= bkgImg #background_subtraction(img, bkgImg)\n",
    "    \n",
    "    ###  center image  ###\n",
    "    img, centerR, centerC = centering(img, centerConfig)\n",
    "    \n",
    "    print(\"Found image center at row/column %i / %i\" % (centerR, centerC))\n",
    "    \n",
    "    fig,ax = plt.subplot(111)\n",
    "    ax.imshow(img)\n",
    "\n",
    "    "
   ]
  },
  {
   "cell_type": "code",
   "execution_count": 4,
   "metadata": {
    "collapsed": false
   },
   "outputs": [
    {
     "ename": "NameError",
     "evalue": "name 'onlineAnalysis' is not defined",
     "output_type": "error",
     "traceback": [
      "\u001b[0;31m---------------------------------------------------------------------------\u001b[0m",
      "\u001b[0;31mNameError\u001b[0m                                 Traceback (most recent call last)",
      "\u001b[0;32m<ipython-input-4-4b9d4e99a392>\u001b[0m in \u001b[0;36m<module>\u001b[0;34m()\u001b[0m\n\u001b[0;32m----> 1\u001b[0;31m \u001b[0mimgSums\u001b[0m \u001b[0;34m=\u001b[0m \u001b[0monlineAnalysis\u001b[0m\u001b[0;34m(\u001b[0m\u001b[0mconfig\u001b[0m\u001b[0;34m,\u001b[0m \u001b[0mgetImgNormDistribution\u001b[0m\u001b[0;34m=\u001b[0m\u001b[0mTrue\u001b[0m\u001b[0;34m)\u001b[0m\u001b[0;34m\u001b[0m\u001b[0m\n\u001b[0m\u001b[1;32m      2\u001b[0m \u001b[0;34m\u001b[0m\u001b[0m\n\u001b[1;32m      3\u001b[0m \u001b[0mfig\u001b[0m \u001b[0;34m=\u001b[0m \u001b[0mplt\u001b[0m\u001b[0;34m.\u001b[0m\u001b[0mfigure\u001b[0m\u001b[0;34m(\u001b[0m\u001b[0;34m)\u001b[0m\u001b[0;34m\u001b[0m\u001b[0m\n\u001b[1;32m      4\u001b[0m \u001b[0mplt\u001b[0m\u001b[0;34m.\u001b[0m\u001b[0mhist\u001b[0m\u001b[0;34m(\u001b[0m\u001b[0mimgSums\u001b[0m\u001b[0;34m)\u001b[0m\u001b[0;34m\u001b[0m\u001b[0m\n\u001b[1;32m      5\u001b[0m \u001b[0mplt\u001b[0m\u001b[0;34m.\u001b[0m\u001b[0mshow\u001b[0m\u001b[0;34m(\u001b[0m\u001b[0;34m)\u001b[0m\u001b[0;34m\u001b[0m\u001b[0m\n",
      "\u001b[0;31mNameError\u001b[0m: name 'onlineAnalysis' is not defined"
     ]
    }
   ],
   "source": [
    "imgSums = onlineAnalysis(config, getImgNormDistribution=True)\n",
    "\n",
    "fig = plt.figure()\n",
    "plt.hist(imgSums)\n",
    "plt.show()"
   ]
  },
  {
   "cell_type": "code",
   "execution_count": null,
   "metadata": {
    "collapsed": true
   },
   "outputs": [],
   "source": [
    "onlinAnalysis(config)"
   ]
  }
 ],
 "metadata": {
  "kernelspec": {
   "display_name": "Python 2",
   "language": "python",
   "name": "python2"
  },
  "language_info": {
   "codemirror_mode": {
    "name": "ipython",
    "version": 2
   },
   "file_extension": ".py",
   "mimetype": "text/x-python",
   "name": "python",
   "nbconvert_exporter": "python",
   "pygments_lexer": "ipython2",
   "version": "2.7.12"
  }
 },
 "nbformat": 4,
 "nbformat_minor": 1
}
